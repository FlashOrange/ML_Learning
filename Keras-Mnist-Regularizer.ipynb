{
 "cells": [
  {
   "cell_type": "code",
   "execution_count": 4,
   "metadata": {},
   "outputs": [],
   "source": [
    "import numpy as np\n",
    "from keras.datasets import mnist\n",
    "from keras.utils import np_utils\n",
    "from keras.models import Sequential\n",
    "\n",
    "from keras.layers import Dense,Activation,Dropout\n",
    "from keras.optimizers import SGD,Adam\n",
    "from keras.regularizers import l2 #导入L2正则化"
   ]
  },
  {
   "cell_type": "code",
   "execution_count": 5,
   "metadata": {},
   "outputs": [],
   "source": [
    "#载入数据\n",
    "(x_train, y_train), (x_test, y_test) = mnist.load_data()\n",
    "#拉平数据\n",
    "x_train = x_train.reshape(x_train.shape[0], -1) / 255.0 # 做归一化处理\n",
    "x_test = x_test.reshape(x_test.shape[0], -1) / 255.0\n",
    "#将标签转换为one_hot编码\n",
    "y_train = np_utils.to_categorical(y_train, num_classes=10)\n",
    "y_test = np_utils.to_categorical(y_test, num_classes=10)"
   ]
  },
  {
   "cell_type": "code",
   "execution_count": 6,
   "metadata": {},
   "outputs": [
    {
     "name": "stderr",
     "output_type": "stream",
     "text": [
      "WARNING: Logging before flag parsing goes to stderr.\n",
      "W0726 22:54:48.183055 14084 deprecation_wrapper.py:119] From C:\\Conda3\\lib\\site-packages\\keras\\backend\\tensorflow_backend.py:74: The name tf.get_default_graph is deprecated. Please use tf.compat.v1.get_default_graph instead.\n",
      "\n",
      "W0726 22:54:48.223094 14084 deprecation_wrapper.py:119] From C:\\Conda3\\lib\\site-packages\\keras\\backend\\tensorflow_backend.py:517: The name tf.placeholder is deprecated. Please use tf.compat.v1.placeholder instead.\n",
      "\n",
      "W0726 22:54:48.231102 14084 deprecation_wrapper.py:119] From C:\\Conda3\\lib\\site-packages\\keras\\backend\\tensorflow_backend.py:4138: The name tf.random_uniform is deprecated. Please use tf.random.uniform instead.\n",
      "\n",
      "W0726 22:54:48.435126 14084 deprecation_wrapper.py:119] From C:\\Conda3\\lib\\site-packages\\keras\\optimizers.py:790: The name tf.train.Optimizer is deprecated. Please use tf.compat.v1.train.Optimizer instead.\n",
      "\n",
      "W0726 22:54:48.455647 14084 deprecation_wrapper.py:119] From C:\\Conda3\\lib\\site-packages\\keras\\backend\\tensorflow_backend.py:3295: The name tf.log is deprecated. Please use tf.math.log instead.\n",
      "\n"
     ]
    }
   ],
   "source": [
    "#创建模型\n",
    "\n",
    "\n",
    "model = Sequential([\n",
    "    Dense(units=200, input_dim=784, bias_initializer='zero',activation='tanh',kernel_regularizer=l2(0.0003)),\n",
    "    #Dropout(0.4),\n",
    "    Dense(units=200, bias_initializer='zero',activation='tanh',kernel_regularizer=l2(0.0003)),\n",
    "    #Dropout(0.4),\n",
    "    Dense(units=10,activation='softmax',kernel_regularizer=l2(0.0003))\n",
    "])\n",
    "\n",
    "sgd = SGD(lr=0.2)\n",
    "adam = Adam(lr=0.001, beta_1=0.9, beta_2=0.999, epsilon=None, decay=0.0, amsgrad=False)\n",
    "#将loss改变为交叉熵\n",
    "model.compile(\n",
    "    optimizer=adam, \n",
    "    loss='categorical_crossentropy',\n",
    "    #loss = 'mse',\n",
    "    metrics=['accuracy'])"
   ]
  },
  {
   "cell_type": "code",
   "execution_count": 7,
   "metadata": {},
   "outputs": [
    {
     "name": "stderr",
     "output_type": "stream",
     "text": [
      "W0726 22:55:01.785631 14084 deprecation.py:323] From C:\\Conda3\\lib\\site-packages\\tensorflow\\python\\ops\\math_grad.py:1250: add_dispatch_support.<locals>.wrapper (from tensorflow.python.ops.array_ops) is deprecated and will be removed in a future version.\n",
      "Instructions for updating:\n",
      "Use tf.where in 2.0, which has the same broadcast rule as np.where\n",
      "W0726 22:55:01.935775 14084 deprecation_wrapper.py:119] From C:\\Conda3\\lib\\site-packages\\keras\\backend\\tensorflow_backend.py:986: The name tf.assign_add is deprecated. Please use tf.compat.v1.assign_add instead.\n",
      "\n"
     ]
    },
    {
     "name": "stdout",
     "output_type": "stream",
     "text": [
      "Epoch 1/10\n",
      "60000/60000 [==============================] - 15s 245us/step - loss: 0.3760 - acc: 0.9242\n",
      "Epoch 2/10\n",
      "60000/60000 [==============================] - 14s 238us/step - loss: 0.2429 - acc: 0.9577\n",
      "Epoch 3/10\n",
      "60000/60000 [==============================] - 15s 249us/step - loss: 0.2108 - acc: 0.9658\n",
      "Epoch 4/10\n",
      "60000/60000 [==============================] - 15s 246us/step - loss: 0.1945 - acc: 0.9692\n",
      "Epoch 5/10\n",
      "60000/60000 [==============================] - 10s 168us/step - loss: 0.1860 - acc: 0.9713\n",
      "Epoch 6/10\n",
      "60000/60000 [==============================] - 11s 185us/step - loss: 0.1791 - acc: 0.9736\n",
      "Epoch 7/10\n",
      "60000/60000 [==============================] - 12s 203us/step - loss: 0.1744 - acc: 0.9739\n",
      "Epoch 8/10\n",
      "60000/60000 [==============================] - ETA: 0s - loss: 0.1708 - acc: 0.975 - 14s 226us/step - loss: 0.1708 - acc: 0.9756\n",
      "Epoch 9/10\n",
      "60000/60000 [==============================] - 12s 198us/step - loss: 0.1682 - acc: 0.9764\n",
      "Epoch 10/10\n",
      "60000/60000 [==============================] - 12s 208us/step - loss: 0.1630 - acc: 0.9776\n"
     ]
    },
    {
     "data": {
      "text/plain": [
       "<keras.callbacks.History at 0x3fbb80c278>"
      ]
     },
     "execution_count": 7,
     "metadata": {},
     "output_type": "execute_result"
    }
   ],
   "source": [
    "#训练,60000张图片训练一次叫做一个epoch\n",
    "model.fit(x_train, y_train, batch_size=32, epochs=10)"
   ]
  },
  {
   "cell_type": "code",
   "execution_count": 8,
   "metadata": {},
   "outputs": [
    {
     "name": "stdout",
     "output_type": "stream",
     "text": [
      "10000/10000 [==============================] - 1s 78us/step\n",
      "Loss: 0.20362583221197128\n",
      "Accuracy: 0.9667\n"
     ]
    }
   ],
   "source": [
    "#评估模型\n",
    "loss, accuracy = model.evaluate(x_test, y_test)\n",
    "print(\"Loss:\", loss)\n",
    "print(\"Accuracy:\", accuracy)"
   ]
  },
  {
   "cell_type": "code",
   "execution_count": null,
   "metadata": {},
   "outputs": [],
   "source": []
  }
 ],
 "metadata": {
  "kernelspec": {
   "display_name": "Python 3",
   "language": "python",
   "name": "python3"
  },
  "language_info": {
   "codemirror_mode": {
    "name": "ipython",
    "version": 3
   },
   "file_extension": ".py",
   "mimetype": "text/x-python",
   "name": "python",
   "nbconvert_exporter": "python",
   "pygments_lexer": "ipython3",
   "version": "3.7.3"
  }
 },
 "nbformat": 4,
 "nbformat_minor": 2
}
