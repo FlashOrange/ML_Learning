{
 "cells": [
  {
   "cell_type": "code",
   "execution_count": 6,
   "metadata": {},
   "outputs": [],
   "source": [
    "import numpy as np\n",
    "from keras.datasets import mnist\n",
    "from keras.utils import np_utils\n",
    "from keras.models import Sequential,Model\n",
    "\n",
    "from keras.layers import Dense,Dropout,Conv2D, MaxPooling2D, Flatten, Input#flatten是进行扁平化操作\n",
    "from keras.optimizers import SGD,Adam\n",
    "#from keras.regularizers import l2 #导入L2正则化"
   ]
  },
  {
   "cell_type": "code",
   "execution_count": 2,
   "metadata": {},
   "outputs": [],
   "source": [
    "#载入数据\n",
    "(x_train, y_train), (x_test, y_test) = mnist.load_data()\n",
    "#[60000,28,28,1] 最后的1维代表图片深度，如果是彩色图片，深度为3\n",
    "x_train = x_train.reshape(-1,28,28,1) / 255.0 # 做归一化处理\n",
    "x_test = x_test.reshape(-1,28,28,1) / 255.0\n",
    "#将标签转换为one_hot编码\n",
    "y_train = np_utils.to_categorical(y_train, num_classes=10)\n",
    "y_test = np_utils.to_categorical(y_test, num_classes=10)"
   ]
  },
  {
   "cell_type": "code",
   "execution_count": null,
   "metadata": {},
   "outputs": [],
   "source": [
    "#定义序贯模型\n",
    "model = Sequential()\n",
    "\n",
    "##\n",
    "#input_shape(输入平面)\n",
    "#filter 滤波器\n",
    "#kernelsize 卷积窗口\n",
    "#strides 步长\n",
    "#padding same/valid\n",
    "\n",
    "#第一个卷积层\n",
    "model.add(Convolution2D(\n",
    "    input_shape = (28,28,1), \n",
    "    filters=32,  \n",
    "    kernel_size=5,\n",
    "    strides=1,\n",
    "    padding='same',\n",
    "    activation='relu'\n",
    "))\n",
    "#第一个池化层 池化后图片成为14*14，32个特征图\n",
    "model.add(MaxPooling2D(\n",
    "    pool_size=2,\n",
    "    strides=2,\n",
    "    padding='same'\n",
    "))\n",
    "#第二个卷积层\n",
    "model.add(Convolution2D(\n",
    "    #input_shape = (28,28,1), \n",
    "    filters=64,  \n",
    "    kernel_size=5,\n",
    "    strides=1,\n",
    "    padding='same',\n",
    "    activation='relu'\n",
    "))\n",
    "#第2个池化层，变成7*7,64个特征图\n",
    "model.add(MaxPooling2D(\n",
    "    pool_size=2,\n",
    "    strides=2,\n",
    "    padding='same'\n",
    "))\n",
    "#扁平化为1维，64*7*7\n",
    "model.add(Flatten())\n",
    "\n",
    "#接入全连接网络\n",
    "model.add(Dense(1024,activation='relu'))\n",
    "model.add(Dropout(0.5))\n",
    "model.add(Dense(10,activation='softmax'))\n",
    "\n",
    "adam = Adam(lr=1e-4)\n",
    "\n",
    "\n",
    "\n",
    "\n",
    "#NN模型\n",
    "#model = Sequential([\n",
    "#    Dense(units=200, input_dim=784, bias_initializer='zero',activation='tanh',kernel_regularizer=l2(0.0003)),\n",
    "#    #Dropout(0.4),\n",
    "#    Dense(units=200, bias_initializer='zero',activation='tanh',kernel_regularizer=l2(0.0003)),\n",
    "#    #Dropout(0.4),\n",
    "#    Dense(units=10,activation='softmax',kernel_regularizer=l2(0.0003))\n",
    "#])\n",
    "\n",
    "#sgd = SGD(lr=0.2)\n",
    "#adam = Adam(lr=0.001, beta_1=0.9, beta_2=0.999, epsilon=None, decay=0.0, amsgrad=False)\n",
    "#将loss改变为交叉熵\n",
    "model.compile(\n",
    "    optimizer=adam, \n",
    "    loss='categorical_crossentropy',\n",
    "    #loss = 'mse',\n",
    "    metrics=['accuracy'])"
   ]
  },
  {
   "cell_type": "markdown",
   "metadata": {},
   "source": [
    "## 函数式模型\n",
    "\n",
    "### 函数式模型可以定义一些非序列化的更加复杂的处理流程\n"
   ]
  },
  {
   "cell_type": "code",
   "execution_count": 7,
   "metadata": {},
   "outputs": [],
   "source": [
    "#函数式模型\n",
    "inputs = Input(shape=(28,28,1))\n",
    "x = Conv2D(filters=32, kernel_size=5, padding='same',activation='relu')(inputs)\n",
    "x = MaxPooling2D(pool_size=2)(x)\n",
    "x = Conv2D(filters=64, kernel_size=5, padding='same',activation='relu')(x)\n",
    "x = MaxPooling2D(pool_size=2)(x)\n",
    "x = Flatten()(x)\n",
    "x = Dense(1024, activation='relu')(x)\n",
    "x = Dropout(0.5)(x)\n",
    "\n",
    "predictions = Dense(10,activation='softmax')(x)\n",
    "model = Model(inputs=inputs, outputs=predictions)"
   ]
  },
  {
   "cell_type": "code",
   "execution_count": 8,
   "metadata": {},
   "outputs": [],
   "source": [
    "adam = Adam(lr=1e-4)\n",
    "model.compile(\n",
    "    optimizer=adam, \n",
    "    loss='categorical_crossentropy',\n",
    "    #loss = 'mse',\n",
    "    metrics=['accuracy'])\n"
   ]
  },
  {
   "cell_type": "code",
   "execution_count": 9,
   "metadata": {},
   "outputs": [
    {
     "name": "stderr",
     "output_type": "stream",
     "text": [
      "W0727 20:22:42.275011  8840 deprecation.py:323] From C:\\Conda3\\lib\\site-packages\\tensorflow\\python\\ops\\math_grad.py:1250: add_dispatch_support.<locals>.wrapper (from tensorflow.python.ops.array_ops) is deprecated and will be removed in a future version.\n",
      "Instructions for updating:\n",
      "Use tf.where in 2.0, which has the same broadcast rule as np.where\n"
     ]
    },
    {
     "name": "stdout",
     "output_type": "stream",
     "text": [
      "Epoch 1/10\n",
      "60000/60000 [==============================] - 187s 3ms/step - loss: 0.3275 - acc: 0.9056\n",
      "Epoch 2/10\n",
      "60000/60000 [==============================] - 185s 3ms/step - loss: 0.0920 - acc: 0.9719\n",
      "Epoch 3/10\n",
      "60000/60000 [==============================] - 184s 3ms/step - loss: 0.0653 - acc: 0.9796\n",
      "Epoch 4/10\n",
      "60000/60000 [==============================] - 182s 3ms/step - loss: 0.0510 - acc: 0.9847\n",
      "Epoch 5/10\n",
      "60000/60000 [==============================] - 182s 3ms/step - loss: 0.0431 - acc: 0.9865\n",
      "Epoch 6/10\n",
      "60000/60000 [==============================] - 181s 3ms/step - loss: 0.0363 - acc: 0.9892\n",
      "Epoch 7/10\n",
      "60000/60000 [==============================] - 180s 3ms/step - loss: 0.0317 - acc: 0.9897\n",
      "Epoch 8/10\n",
      "60000/60000 [==============================] - 182s 3ms/step - loss: 0.0269 - acc: 0.9915\n",
      "Epoch 9/10\n",
      "60000/60000 [==============================] - 181s 3ms/step - loss: 0.0246 - acc: 0.9919\n",
      "Epoch 10/10\n",
      "60000/60000 [==============================] - 182s 3ms/step - loss: 0.0223 - acc: 0.9929\n"
     ]
    },
    {
     "data": {
      "text/plain": [
       "<keras.callbacks.History at 0xd387fc15f8>"
      ]
     },
     "execution_count": 9,
     "metadata": {},
     "output_type": "execute_result"
    }
   ],
   "source": [
    "model.fit(x_train, y_train, batch_size=64, epochs=10)"
   ]
  },
  {
   "cell_type": "code",
   "execution_count": null,
   "metadata": {},
   "outputs": [],
   "source": []
  }
 ],
 "metadata": {
  "kernelspec": {
   "display_name": "Python 3",
   "language": "python",
   "name": "python3"
  },
  "language_info": {
   "codemirror_mode": {
    "name": "ipython",
    "version": 3
   },
   "file_extension": ".py",
   "mimetype": "text/x-python",
   "name": "python",
   "nbconvert_exporter": "python",
   "pygments_lexer": "ipython3",
   "version": "3.7.3"
  }
 },
 "nbformat": 4,
 "nbformat_minor": 2
}
