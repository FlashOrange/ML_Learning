{
 "cells": [
  {
   "cell_type": "code",
   "execution_count": 3,
   "metadata": {},
   "outputs": [],
   "source": [
    "import numpy as np\n",
    "from keras.datasets import mnist\n",
    "from keras.utils import np_utils\n",
    "from keras.models import Sequential\n",
    "\n",
    "from keras.layers import Dense,Activation,Dropout #加入Dropout,主要作用是屏蔽一部分神经元，防止过拟合的发生\n",
    "from keras.optimizers import SGD,Adam"
   ]
  },
  {
   "cell_type": "code",
   "execution_count": 2,
   "metadata": {},
   "outputs": [],
   "source": [
    "#载入数据\n",
    "(x_train, y_train), (x_test, y_test) = mnist.load_data()\n",
    "#拉平数据\n",
    "x_train = x_train.reshape(x_train.shape[0], -1) / 255.0 # 做归一化处理\n",
    "x_test = x_test.reshape(x_test.shape[0], -1) / 255.0\n",
    "#将标签转换为one_hot编码\n",
    "y_train = np_utils.to_categorical(y_train, num_classes=10)\n",
    "y_test = np_utils.to_categorical(y_test, num_classes=10)"
   ]
  },
  {
   "cell_type": "code",
   "execution_count": 12,
   "metadata": {},
   "outputs": [],
   "source": [
    "#创建模型\n",
    "\n",
    "\n",
    "model = Sequential([\n",
    "    Dense(units=200, input_dim=784, bias_initializer='zero',activation='tanh'),\n",
    "    Dropout(0.4),\n",
    "    Dense(units=200, bias_initializer='zero',activation='tanh'),\n",
    "    Dropout(0.4),\n",
    "    Dense(units=10,activation='softmax')\n",
    "])\n",
    "\n",
    "sgd = SGD(lr=0.2)\n",
    "adam = Adam(lr=0.001, beta_1=0.9, beta_2=0.999, epsilon=None, decay=0.0, amsgrad=False)\n",
    "#将loss改变为交叉熵\n",
    "model.compile(\n",
    "    optimizer=adam, \n",
    "    loss='categorical_crossentropy',\n",
    "    #loss = 'mse',\n",
    "    metrics=['accuracy'])"
   ]
  },
  {
   "cell_type": "code",
   "execution_count": 13,
   "metadata": {},
   "outputs": [
    {
     "name": "stderr",
     "output_type": "stream",
     "text": [
      "W0726 22:45:12.059971 15256 deprecation.py:323] From C:\\Conda3\\lib\\site-packages\\tensorflow\\python\\ops\\math_grad.py:1250: add_dispatch_support.<locals>.wrapper (from tensorflow.python.ops.array_ops) is deprecated and will be removed in a future version.\n",
      "Instructions for updating:\n",
      "Use tf.where in 2.0, which has the same broadcast rule as np.where\n"
     ]
    },
    {
     "name": "stdout",
     "output_type": "stream",
     "text": [
      "Epoch 1/10\n",
      "60000/60000 [==============================] - 19s 311us/step - loss: 0.3858 - acc: 0.8831\n",
      "Epoch 2/10\n",
      "60000/60000 [==============================] - 18s 294us/step - loss: 0.2382 - acc: 0.9286\n",
      "Epoch 3/10\n",
      "60000/60000 [==============================] - 18s 295us/step - loss: 0.1973 - acc: 0.9410\n",
      "Epoch 4/10\n",
      "60000/60000 [==============================] - 18s 293us/step - loss: 0.1685 - acc: 0.9489\n",
      "Epoch 5/10\n",
      "60000/60000 [==============================] - 18s 306us/step - loss: 0.1535 - acc: 0.9529\n",
      "Epoch 6/10\n",
      "60000/60000 [==============================] - 18s 300us/step - loss: 0.1398 - acc: 0.9571\n",
      "Epoch 7/10\n",
      "60000/60000 [==============================] - 18s 294us/step - loss: 0.1327 - acc: 0.9595\n",
      "Epoch 8/10\n",
      "60000/60000 [==============================] - 18s 297us/step - loss: 0.1262 - acc: 0.9618\n",
      "Epoch 9/10\n",
      "60000/60000 [==============================] - 18s 295us/step - loss: 0.1175 - acc: 0.9639\n",
      "Epoch 10/10\n",
      "60000/60000 [==============================] - 19s 316us/step - loss: 0.1137 - acc: 0.9641\n"
     ]
    },
    {
     "data": {
      "text/plain": [
       "<keras.callbacks.History at 0xf849105ba8>"
      ]
     },
     "execution_count": 13,
     "metadata": {},
     "output_type": "execute_result"
    }
   ],
   "source": [
    "#训练,60000张图片训练一次叫做一个epoch\n",
    "model.fit(x_train, y_train, batch_size=32, epochs=10)"
   ]
  },
  {
   "cell_type": "code",
   "execution_count": 10,
   "metadata": {},
   "outputs": [
    {
     "name": "stdout",
     "output_type": "stream",
     "text": [
      "10000/10000 [==============================] - 1s 85us/step\n",
      "Loss: 0.005509225711025261\n",
      "Accuracy: 0.9652\n"
     ]
    }
   ],
   "source": [
    "#评估模型\n",
    "loss, accuracy = model.evaluate(x_test, y_test)\n",
    "print(\"Loss:\", loss)\n",
    "print(\"Accuracy:\", accuracy)"
   ]
  },
  {
   "cell_type": "code",
   "execution_count": 11,
   "metadata": {},
   "outputs": [
    {
     "name": "stdout",
     "output_type": "stream",
     "text": [
      "60000/60000 [==============================] - 4s 66us/step\n",
      "Loss: 0.004147109841826021\n",
      "Accuracy: 0.9742666666666666\n"
     ]
    }
   ],
   "source": [
    "loss, accuracy = model.evaluate(x_train, y_train)\n",
    "print(\"Loss:\", loss)\n",
    "print(\"Accuracy:\", accuracy)"
   ]
  },
  {
   "cell_type": "code",
   "execution_count": null,
   "metadata": {},
   "outputs": [],
   "source": []
  }
 ],
 "metadata": {
  "kernelspec": {
   "display_name": "Python 3",
   "language": "python",
   "name": "python3"
  },
  "language_info": {
   "codemirror_mode": {
    "name": "ipython",
    "version": 3
   },
   "file_extension": ".py",
   "mimetype": "text/x-python",
   "name": "python",
   "nbconvert_exporter": "python",
   "pygments_lexer": "ipython3",
   "version": "3.7.3"
  }
 },
 "nbformat": 4,
 "nbformat_minor": 2
}
