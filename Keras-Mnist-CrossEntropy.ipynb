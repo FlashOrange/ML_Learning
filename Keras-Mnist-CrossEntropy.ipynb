{
 "cells": [
  {
   "cell_type": "code",
   "execution_count": 17,
   "metadata": {},
   "outputs": [],
   "source": [
    "import numpy as np\n",
    "from keras.datasets import mnist\n",
    "from keras.utils import np_utils\n",
    "from keras.models import Sequential\n",
    "\n",
    "from keras.layers import Dense,Activation\n",
    "from keras.optimizers import SGD,Adam"
   ]
  },
  {
   "cell_type": "code",
   "execution_count": 2,
   "metadata": {},
   "outputs": [],
   "source": [
    "#载入数据\n",
    "(x_train, y_train), (x_test, y_test) = mnist.load_data()"
   ]
  },
  {
   "cell_type": "code",
   "execution_count": 3,
   "metadata": {},
   "outputs": [
    {
     "data": {
      "text/plain": [
       "((60000, 784), (10000, 784))"
      ]
     },
     "execution_count": 3,
     "metadata": {},
     "output_type": "execute_result"
    }
   ],
   "source": [
    "#拉平数据\n",
    "x_train = x_train.reshape(x_train.shape[0], -1) / 255.0 # 做归一化处理\n",
    "x_test = x_test.reshape(x_test.shape[0], -1) / 255.0\n",
    "x_train.shape,x_test.shape"
   ]
  },
  {
   "cell_type": "code",
   "execution_count": 4,
   "metadata": {},
   "outputs": [
    {
     "data": {
      "text/plain": [
       "((60000, 10), (10000, 10))"
      ]
     },
     "execution_count": 4,
     "metadata": {},
     "output_type": "execute_result"
    }
   ],
   "source": [
    "#将标签转换为one_hot编码\n",
    "y_train = np_utils.to_categorical(y_train, num_classes=10)\n",
    "y_test = np_utils.to_categorical(y_test, num_classes=10)\n",
    "y_train.shape,y_test.shape"
   ]
  },
  {
   "cell_type": "code",
   "execution_count": 35,
   "metadata": {},
   "outputs": [],
   "source": [
    "#创建模型，输入784个神经元，输出10个,偏置初始值设为1,softmax将输出转换为概率\n",
    "#在采用交叉熵的情况下，如果使用双层全链接，LOSS居高不下，模型不可用，使用单层却可以达到92%\n",
    "#使用tanh也不行,relu也不行\n",
    "#使用Adam时acc只能到60%\n",
    "#加上隐含层，Adam优化器，tanh激活，mse 达96%，relu激活达到97%\n",
    "#如果此时loss改为交叉熵，那么准确率又成了10%\n",
    "\n",
    "model = Sequential([\n",
    "    Dense(units=100, input_dim=784, bias_initializer='zero',activation='relu'),\n",
    "    Dense(units=10,activation='softmax')\n",
    "])\n",
    "\n",
    "sgd = SGD(lr=0.2)\n",
    "adam = Adam(lr=0.001, beta_1=0.9, beta_2=0.999, epsilon=None, decay=0.0, amsgrad=False)\n",
    "#将loss改变为交叉熵\n",
    "model.compile(\n",
    "    optimizer=adam, \n",
    "    #loss='categorical_crossentropy',\n",
    "    loss = 'mse',\n",
    "    metrics=['accuracy'])"
   ]
  },
  {
   "cell_type": "code",
   "execution_count": 36,
   "metadata": {},
   "outputs": [
    {
     "name": "stdout",
     "output_type": "stream",
     "text": [
      "Epoch 1/10\n",
      "60000/60000 [==============================] - 12s 193us/step - loss: 0.0126 - acc: 0.9192\n",
      "Epoch 2/10\n",
      "60000/60000 [==============================] - 10s 172us/step - loss: 0.0065 - acc: 0.9590\n",
      "Epoch 3/10\n",
      "60000/60000 [==============================] - 10s 172us/step - loss: 0.0048 - acc: 0.9704\n",
      "Epoch 4/10\n",
      "60000/60000 [==============================] - ETA: 0s - loss: 0.0038 - acc: 0.976 - 10s 174us/step - loss: 0.0038 - acc: 0.9763\n",
      "Epoch 5/10\n",
      "60000/60000 [==============================] - 10s 174us/step - loss: 0.0032 - acc: 0.9806\n",
      "Epoch 6/10\n",
      "60000/60000 [==============================] - 11s 178us/step - loss: 0.0027 - acc: 0.9838\n",
      "Epoch 7/10\n",
      "60000/60000 [==============================] - 10s 173us/step - loss: 0.0023 - acc: 0.9862\n",
      "Epoch 8/10\n",
      "60000/60000 [==============================] - 10s 172us/step - loss: 0.0021 - acc: 0.9877\n",
      "Epoch 9/10\n",
      "60000/60000 [==============================] - 10s 174us/step - loss: 0.0019 - acc: 0.9892\n",
      "Epoch 10/10\n",
      "60000/60000 [==============================] - 10s 173us/step - loss: 0.0017 - acc: 0.9900\n"
     ]
    },
    {
     "data": {
      "text/plain": [
       "<keras.callbacks.History at 0xd83e4b8e48>"
      ]
     },
     "execution_count": 36,
     "metadata": {},
     "output_type": "execute_result"
    }
   ],
   "source": [
    "#训练,60000张图片训练一次叫做一个epoch\n",
    "model.fit(x_train, y_train, batch_size=32, epochs=10)"
   ]
  },
  {
   "cell_type": "code",
   "execution_count": 37,
   "metadata": {},
   "outputs": [
    {
     "name": "stdout",
     "output_type": "stream",
     "text": [
      "10000/10000 [==============================] - 1s 102us/step\n",
      "Loss: 0.0038545051250716738\n",
      "Accuracy: 0.9743\n"
     ]
    }
   ],
   "source": [
    "#评估模型\n",
    "loss, accuracy = model.evaluate(x_test, y_test)\n",
    "print(\"Loss:\", loss)\n",
    "print(\"Accuracy:\", accuracy)"
   ]
  },
  {
   "cell_type": "code",
   "execution_count": null,
   "metadata": {},
   "outputs": [],
   "source": []
  }
 ],
 "metadata": {
  "kernelspec": {
   "display_name": "Python 3",
   "language": "python",
   "name": "python3"
  },
  "language_info": {
   "codemirror_mode": {
    "name": "ipython",
    "version": 3
   },
   "file_extension": ".py",
   "mimetype": "text/x-python",
   "name": "python",
   "nbconvert_exporter": "python",
   "pygments_lexer": "ipython3",
   "version": "3.7.3"
  }
 },
 "nbformat": 4,
 "nbformat_minor": 2
}
