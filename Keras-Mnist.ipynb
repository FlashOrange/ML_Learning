{
 "cells": [
  {
   "cell_type": "code",
   "execution_count": 1,
   "metadata": {},
   "outputs": [
    {
     "name": "stderr",
     "output_type": "stream",
     "text": [
      "Using TensorFlow backend.\n"
     ]
    }
   ],
   "source": [
    "import numpy as np\n",
    "from keras.datasets import mnist\n",
    "from keras.utils import np_utils\n",
    "from keras.models import Sequential\n",
    "\n",
    "from keras.layers import Dense,Activation\n",
    "from keras.optimizers import SGD"
   ]
  },
  {
   "cell_type": "code",
   "execution_count": 2,
   "metadata": {},
   "outputs": [
    {
     "name": "stdout",
     "output_type": "stream",
     "text": [
      "A local file was found, but it seems to be incomplete or outdated because the auto file hash does not match the original value of 8a61469f7ea1b51cbae51d4f78837e45 so we will re-download the data.\n",
      "Downloading data from https://s3.amazonaws.com/img-datasets/mnist.npz\n",
      "11493376/11490434 [==============================] - 313s 27us/step\n"
     ]
    }
   ],
   "source": [
    "#载入数据\n",
    "(x_train, y_train), (x_test, y_test) = mnist.load_data()"
   ]
  },
  {
   "cell_type": "code",
   "execution_count": 3,
   "metadata": {},
   "outputs": [
    {
     "data": {
      "text/plain": [
       "((60000, 28, 28), (10000, 28, 28))"
      ]
     },
     "execution_count": 3,
     "metadata": {},
     "output_type": "execute_result"
    }
   ],
   "source": [
    "x_train.shape,x_test.shape"
   ]
  },
  {
   "cell_type": "code",
   "execution_count": 6,
   "metadata": {},
   "outputs": [
    {
     "data": {
      "text/plain": [
       "((60000, 784), (10000, 784))"
      ]
     },
     "execution_count": 6,
     "metadata": {},
     "output_type": "execute_result"
    }
   ],
   "source": [
    "#拉平数据\n",
    "x_train = x_train.reshape(x_train.shape[0], -1) / 255.0 # 做归一化处理\n",
    "x_test = x_test.reshape(x_test.shape[0], -1) / 255.0\n",
    "x_train.shape,x_test.shape"
   ]
  },
  {
   "cell_type": "code",
   "execution_count": 7,
   "metadata": {},
   "outputs": [
    {
     "data": {
      "text/plain": [
       "((60000, 10), (10000, 10))"
      ]
     },
     "execution_count": 7,
     "metadata": {},
     "output_type": "execute_result"
    }
   ],
   "source": [
    "#将标签转换为one_hot编码\n",
    "y_train = np_utils.to_categorical(y_train, num_classes=10)\n",
    "y_test = np_utils.to_categorical(y_test, num_classes=10)\n",
    "y_train.shape,y_test.shape"
   ]
  },
  {
   "cell_type": "code",
   "execution_count": 38,
   "metadata": {},
   "outputs": [],
   "source": [
    "#创建模型，输入784个神经元，输出10个,偏置初始值设为1,softmax将输出转换为概率\n",
    "#tanh的效果似乎比softmax和relu 强，最后一层不要active 更好，准确率能到95%\n",
    "\n",
    "model = Sequential([\n",
    "    Dense(units=100, input_dim=784, bias_initializer='zero',activation='tanh'),\n",
    "    Dense(units=10)\n",
    "])\n",
    "\n",
    "sgd = SGD(lr=0.2)\n",
    "model.compile(optimizer=sgd, loss='mse', metrics=['accuracy'])\n"
   ]
  },
  {
   "cell_type": "code",
   "execution_count": 39,
   "metadata": {},
   "outputs": [
    {
     "name": "stdout",
     "output_type": "stream",
     "text": [
      "Epoch 1/10\n",
      "60000/60000 [==============================] - 8s 135us/step - loss: 0.0424 - acc: 0.8573\n",
      "Epoch 2/10\n",
      "60000/60000 [==============================] - 7s 120us/step - loss: 0.0244 - acc: 0.9189\n",
      "Epoch 3/10\n",
      "60000/60000 [==============================] - 7s 120us/step - loss: 0.0206 - acc: 0.9321\n",
      "Epoch 4/10\n",
      "60000/60000 [==============================] - 7s 122us/step - loss: 0.0185 - acc: 0.9397\n",
      "Epoch 5/10\n",
      "60000/60000 [==============================] - 7s 122us/step - loss: 0.0171 - acc: 0.9439\n",
      "Epoch 6/10\n",
      "60000/60000 [==============================] - 7s 124us/step - loss: 0.0162 - acc: 0.9468\n",
      "Epoch 7/10\n",
      "60000/60000 [==============================] - 7s 122us/step - loss: 0.0155 - acc: 0.9491\n",
      "Epoch 8/10\n",
      "60000/60000 [==============================] - 7s 121us/step - loss: 0.0148 - acc: 0.9513\n",
      "Epoch 9/10\n",
      "60000/60000 [==============================] - 7s 123us/step - loss: 0.0144 - acc: 0.9519\n",
      "Epoch 10/10\n",
      "60000/60000 [==============================] - 7s 123us/step - loss: 0.0139 - acc: 0.9535\n"
     ]
    },
    {
     "data": {
      "text/plain": [
       "<keras.callbacks.History at 0x2a49056978>"
      ]
     },
     "execution_count": 39,
     "metadata": {},
     "output_type": "execute_result"
    }
   ],
   "source": [
    "#训练,60000张图片训练一次叫做一个epoch\n",
    "model.fit(x_train, y_train, batch_size=32, epochs=10)"
   ]
  },
  {
   "cell_type": "code",
   "execution_count": 40,
   "metadata": {},
   "outputs": [
    {
     "name": "stdout",
     "output_type": "stream",
     "text": [
      "10000/10000 [==============================] - 1s 84us/step\n",
      "Loss: 0.013688957107812167\n",
      "Accuracy: 0.9503\n"
     ]
    }
   ],
   "source": [
    "#评估模型\n",
    "loss, accuracy = model.evaluate(x_test, y_test)\n",
    "print(\"Loss:\", loss)\n",
    "print(\"Accuracy:\", accuracy)"
   ]
  },
  {
   "cell_type": "code",
   "execution_count": null,
   "metadata": {},
   "outputs": [],
   "source": []
  }
 ],
 "metadata": {
  "kernelspec": {
   "display_name": "Python 3",
   "language": "python",
   "name": "python3"
  },
  "language_info": {
   "codemirror_mode": {
    "name": "ipython",
    "version": 3
   },
   "file_extension": ".py",
   "mimetype": "text/x-python",
   "name": "python",
   "nbconvert_exporter": "python",
   "pygments_lexer": "ipython3",
   "version": "3.7.3"
  }
 },
 "nbformat": 4,
 "nbformat_minor": 2
}
