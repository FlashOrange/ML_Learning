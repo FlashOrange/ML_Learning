{
 "cells": [
  {
   "cell_type": "code",
   "execution_count": 4,
   "metadata": {},
   "outputs": [],
   "source": [
    "import numpy as np\n",
    "from keras.datasets import mnist\n",
    "from keras.utils import np_utils\n",
    "from keras.models import Sequential\n",
    "\n",
    "from keras.layers import Dense,Activation,Dropout\n",
    "from keras.layers.recurrent import SimpleRNN #另外两种是LSTM和GRU RNN在图像识别上效果一般\n",
    "from keras.optimizers import SGD,Adam\n",
    "#from keras.regularizers import l2 #导入L2正则化"
   ]
  },
  {
   "cell_type": "code",
   "execution_count": 5,
   "metadata": {},
   "outputs": [],
   "source": [
    "#数据长度，每行28像素\n",
    "input_size = 28\n",
    "#序列长度，28行\n",
    "time_steps = 28\n",
    "#隐藏层CELL个数\n",
    "cell_size = 50\n",
    "\n",
    "#载入数据\n",
    "(x_train, y_train), (x_test, y_test) = mnist.load_data()\n",
    "#[60000,28,28] 如果拿到的数据是[60000,784]就要->[60000,28,28] \n",
    "x_train = x_train / 255.0 # 做归一化处理\n",
    "x_test = x_test / 255.0\n",
    "#将标签转换为one_hot编码\n",
    "y_train = np_utils.to_categorical(y_train, num_classes=10)\n",
    "y_test = np_utils.to_categorical(y_test, num_classes=10)"
   ]
  },
  {
   "cell_type": "code",
   "execution_count": 11,
   "metadata": {},
   "outputs": [],
   "source": [
    "#创建模型\n",
    "\n",
    "model = Sequential()\n",
    "\n",
    "model.add(SimpleRNN(\n",
    "    units = cell_size, #输出\n",
    "    input_shape = (time_steps, input_size), #输入\n",
    "))\n",
    "\n",
    "#输出层\n",
    "model.add(Dense(100,activation='relu'))\n",
    "model.add(Dropout(0.5))\n",
    "model.add(Dense(10,activation='softmax'))\n",
    "\n",
    "#优化器\n",
    "adam = Adam(lr=1e-3)\n",
    "\n",
    "#编译模型\n",
    "model.compile(\n",
    "    optimizer=adam, \n",
    "    loss='categorical_crossentropy',\n",
    "    #loss = 'mse',\n",
    "    metrics=['accuracy'])\n"
   ]
  },
  {
   "cell_type": "code",
   "execution_count": 12,
   "metadata": {},
   "outputs": [
    {
     "name": "stdout",
     "output_type": "stream",
     "text": [
      "Epoch 1/20\n",
      "60000/60000 [==============================] - 15s 249us/step - loss: 0.7327 - acc: 0.7593\n",
      "Epoch 2/20\n",
      "60000/60000 [==============================] - 14s 232us/step - loss: 0.3522 - acc: 0.8976\n",
      "Epoch 3/20\n",
      "60000/60000 [==============================] - 13s 221us/step - loss: 0.2820 - acc: 0.9201\n",
      "Epoch 4/20\n",
      "60000/60000 [==============================] - 13s 224us/step - loss: 0.2419 - acc: 0.9329\n",
      "Epoch 5/20\n",
      "60000/60000 [==============================] - 13s 219us/step - loss: 0.2201 - acc: 0.9386\n",
      "Epoch 6/20\n",
      "60000/60000 [==============================] - 14s 238us/step - loss: 0.2047 - acc: 0.94519s - loss: 0.2032 - ac -\n",
      "Epoch 7/20\n",
      "60000/60000 [==============================] - 14s 240us/step - loss: 0.1906 - acc: 0.94839s - loss: - ETA: 8s - loss: 0.1937 - acc - ETA: 7s - loss: 0.1939 - - ETA: 6s - loss: 0.1923  - ETA: 6s - loss: 0 - ETA: 4s - ETA: 3s  - ETA: 1s - l\n",
      "Epoch 8/20\n",
      "60000/60000 [==============================] - 14s 237us/step - loss: 0.1821 - acc: 0.95041s\n",
      "Epoch 9/20\n",
      "60000/60000 [==============================] - 14s 229us/step - loss: 0.1736 - acc: 0.95254s - loss: 0.1776 - acc: 0.951 - ETA: 3s - l\n",
      "Epoch 10/20\n",
      "60000/60000 [==============================] - 14s 230us/step - loss: 0.1684 - acc: 0.9551TA: 1s - \n",
      "Epoch 11/20\n",
      "60000/60000 [==============================] - 14s 232us/step - loss: 0.1633 - acc: 0.95578s - loss: 0.1563 - acc: 0. - ETA: 6s - loss: 0.1615 - acc: 0. - ETA: 6s - los - ETA: 5s - loss:\n",
      "Epoch 12/20\n",
      "60000/60000 [==============================] - 15s 243us/step - loss: 0.1586 - acc: 0.9571\n",
      "Epoch 13/20\n",
      "60000/60000 [==============================] - 15s 245us/step - loss: 0.1497 - acc: 0.9596\n",
      "Epoch 14/20\n",
      "60000/60000 [==============================] - 15s 246us/step - loss: 0.1533 - acc: 0.9587\n",
      "Epoch 15/20\n",
      "60000/60000 [==============================] - 15s 246us/step - loss: 0.1475 - acc: 0.9602\n",
      "Epoch 16/20\n",
      "60000/60000 [==============================] - 15s 246us/step - loss: 0.1436 - acc: 0.9613\n",
      "Epoch 17/20\n",
      "60000/60000 [==============================] - 15s 248us/step - loss: 0.1408 - acc: 0.96164s - loss: 0.  - ETA: 0s - loss: 0.1412 - acc: 0. - ETA: 0s - loss: 0.1415 - a\n",
      "Epoch 18/20\n",
      "60000/60000 [==============================] - 14s 238us/step - loss: 0.1382 - acc: 0.96367s - loss: 0.1393 - - \n",
      "Epoch 19/20\n",
      "60000/60000 [==============================] - 14s 235us/step - loss: 0.1345 - acc: 0.9641\n",
      "Epoch 20/20\n",
      "60000/60000 [==============================] - 15s 246us/step - loss: 0.1329 - acc: 0.9641\n"
     ]
    },
    {
     "data": {
      "text/plain": [
       "<keras.callbacks.History at 0x6afa3f56a0>"
      ]
     },
     "execution_count": 12,
     "metadata": {},
     "output_type": "execute_result"
    }
   ],
   "source": [
    "#训练,60000张图片训练一次叫做一个epoch\n",
    "model.fit(x_train, y_train, batch_size=64, epochs=20)"
   ]
  },
  {
   "cell_type": "code",
   "execution_count": 13,
   "metadata": {},
   "outputs": [
    {
     "name": "stdout",
     "output_type": "stream",
     "text": [
      "10000/10000 [==============================] - 2s 194us/step\n",
      "Loss: 0.12033018779177218\n",
      "Accuracy: 0.9661\n"
     ]
    }
   ],
   "source": [
    "#评估模型\n",
    "loss, accuracy = model.evaluate(x_test, y_test)\n",
    "print(\"Loss:\", loss)\n",
    "print(\"Accuracy:\", accuracy)"
   ]
  },
  {
   "cell_type": "code",
   "execution_count": 14,
   "metadata": {},
   "outputs": [],
   "source": [
    "model.save('keras-rnn.h5')"
   ]
  },
  {
   "cell_type": "code",
   "execution_count": null,
   "metadata": {},
   "outputs": [],
   "source": []
  }
 ],
 "metadata": {
  "kernelspec": {
   "display_name": "Python 3",
   "language": "python",
   "name": "python3"
  },
  "language_info": {
   "codemirror_mode": {
    "name": "ipython",
    "version": 3
   },
   "file_extension": ".py",
   "mimetype": "text/x-python",
   "name": "python",
   "nbconvert_exporter": "python",
   "pygments_lexer": "ipython3",
   "version": "3.7.3"
  }
 },
 "nbformat": 4,
 "nbformat_minor": 2
}
