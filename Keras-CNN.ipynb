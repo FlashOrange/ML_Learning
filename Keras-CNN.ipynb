{
 "cells": [
  {
   "cell_type": "code",
   "execution_count": 2,
   "metadata": {},
   "outputs": [],
   "source": [
    "import numpy as np\n",
    "from keras.datasets import mnist\n",
    "from keras.utils import np_utils\n",
    "from keras.models import Sequential\n",
    "\n",
    "from keras.layers import Dense,Activation,Dropout,Convolution2D, MaxPooling2D, Flatten #flatten是进行扁平化操作\n",
    "from keras.optimizers import SGD,Adam\n",
    "#from keras.regularizers import l2 #导入L2正则化"
   ]
  },
  {
   "cell_type": "code",
   "execution_count": 6,
   "metadata": {},
   "outputs": [],
   "source": [
    "#载入数据\n",
    "(x_train, y_train), (x_test, y_test) = mnist.load_data()\n",
    "#[60000,28,28,1] 最后的1维代表图片深度，如果是彩色图片，深度为3\n",
    "x_train = x_train.reshape(-1,28,28,1) / 255.0 # 做归一化处理\n",
    "x_test = x_test.reshape(-1,28,28,1) / 255.0\n",
    "#将标签转换为one_hot编码\n",
    "y_train = np_utils.to_categorical(y_train, num_classes=10)\n",
    "y_test = np_utils.to_categorical(y_test, num_classes=10)"
   ]
  },
  {
   "cell_type": "code",
   "execution_count": 7,
   "metadata": {},
   "outputs": [],
   "source": [
    "#创建模型\n",
    "\n",
    "\n",
    "model = Sequential()\n",
    "\n",
    "##\n",
    "#input_shape(输入平面)\n",
    "#filter 滤波器\n",
    "#kernelsize 卷积窗口\n",
    "#strides 步长\n",
    "#padding same/valid\n",
    "\n",
    "#第一个卷积层\n",
    "model.add(Convolution2D(\n",
    "    input_shape = (28,28,1), \n",
    "    filters=32,  \n",
    "    kernel_size=5,\n",
    "    strides=1,\n",
    "    padding='same',\n",
    "    activation='relu'\n",
    "))\n",
    "#第一个池化层 池化后图片成为14*14，32个特征图\n",
    "model.add(MaxPooling2D(\n",
    "    pool_size=2,\n",
    "    strides=2,\n",
    "    padding='same'\n",
    "))\n",
    "#第二个卷积层\n",
    "model.add(Convolution2D(\n",
    "    #input_shape = (28,28,1), \n",
    "    filters=64,  \n",
    "    kernel_size=5,\n",
    "    strides=1,\n",
    "    padding='same',\n",
    "    activation='relu'\n",
    "))\n",
    "#第2个池化层，变成7*7,64个特征图\n",
    "model.add(MaxPooling2D(\n",
    "    pool_size=2,\n",
    "    strides=2,\n",
    "    padding='same'\n",
    "))\n",
    "#扁平化为1维，64*7*7\n",
    "model.add(Flatten())\n",
    "\n",
    "#接入全连接网络\n",
    "model.add(Dense(1024,activation='relu'))\n",
    "model.add(Dropout(0.5))\n",
    "model.add(Dense(10,activation='softmax'))\n",
    "\n",
    "adam = Adam(lr=1e-4)\n",
    "\n",
    "\n",
    "\n",
    "\n",
    "#NN模型\n",
    "#model = Sequential([\n",
    "#    Dense(units=200, input_dim=784, bias_initializer='zero',activation='tanh',kernel_regularizer=l2(0.0003)),\n",
    "#    #Dropout(0.4),\n",
    "#    Dense(units=200, bias_initializer='zero',activation='tanh',kernel_regularizer=l2(0.0003)),\n",
    "#    #Dropout(0.4),\n",
    "#    Dense(units=10,activation='softmax',kernel_regularizer=l2(0.0003))\n",
    "#])\n",
    "\n",
    "#sgd = SGD(lr=0.2)\n",
    "#adam = Adam(lr=0.001, beta_1=0.9, beta_2=0.999, epsilon=None, decay=0.0, amsgrad=False)\n",
    "#将loss改变为交叉熵\n",
    "model.compile(\n",
    "    optimizer=adam, \n",
    "    loss='categorical_crossentropy',\n",
    "    #loss = 'mse',\n",
    "    metrics=['accuracy'])"
   ]
  },
  {
   "cell_type": "code",
   "execution_count": 8,
   "metadata": {},
   "outputs": [
    {
     "name": "stderr",
     "output_type": "stream",
     "text": [
      "W0727 08:42:37.679167 14816 deprecation.py:323] From C:\\Conda3\\lib\\site-packages\\tensorflow\\python\\ops\\math_grad.py:1250: add_dispatch_support.<locals>.wrapper (from tensorflow.python.ops.array_ops) is deprecated and will be removed in a future version.\n",
      "Instructions for updating:\n",
      "Use tf.where in 2.0, which has the same broadcast rule as np.where\n"
     ]
    },
    {
     "name": "stdout",
     "output_type": "stream",
     "text": [
      "Epoch 1/10\n",
      "60000/60000 [==============================] - 189s 3ms/step - loss: 0.3245 - acc: 0.9067\n",
      "Epoch 2/10\n",
      "60000/60000 [==============================] - 185s 3ms/step - loss: 0.0899 - acc: 0.9735\n",
      "Epoch 3/10\n",
      "60000/60000 [==============================] - 185s 3ms/step - loss: 0.0632 - acc: 0.9804\n",
      "Epoch 4/10\n",
      "60000/60000 [==============================] - 184s 3ms/step - loss: 0.0500 - acc: 0.9843\n",
      "Epoch 5/10\n",
      "60000/60000 [==============================] - 184s 3ms/step - loss: 0.0422 - acc: 0.9870\n",
      "Epoch 6/10\n",
      "60000/60000 [==============================] - 184s 3ms/step - loss: 0.0355 - acc: 0.9893\n",
      "Epoch 7/10\n",
      "60000/60000 [==============================] - 186s 3ms/step - loss: 0.0303 - acc: 0.9909\n",
      "Epoch 8/10\n",
      "60000/60000 [==============================] - 184s 3ms/step - loss: 0.0262 - acc: 0.9919\n",
      "Epoch 9/10\n",
      "60000/60000 [==============================] - 183s 3ms/step - loss: 0.0228 - acc: 0.9927\n",
      "Epoch 10/10\n",
      "60000/60000 [==============================] - 185s 3ms/step - loss: 0.0209 - acc: 0.9932\n"
     ]
    },
    {
     "data": {
      "text/plain": [
       "<keras.callbacks.History at 0x58f68138d0>"
      ]
     },
     "execution_count": 8,
     "metadata": {},
     "output_type": "execute_result"
    }
   ],
   "source": [
    "#训练,60000张图片训练一次叫做一个epoch\n",
    "model.fit(x_train, y_train, batch_size=64, epochs=10)"
   ]
  },
  {
   "cell_type": "code",
   "execution_count": 9,
   "metadata": {},
   "outputs": [
    {
     "name": "stdout",
     "output_type": "stream",
     "text": [
      "10000/10000 [==============================] - 6s 613us/step\n",
      "Loss: 0.02270924784790841\n",
      "Accuracy: 0.992\n"
     ]
    }
   ],
   "source": [
    "#评估模型\n",
    "loss, accuracy = model.evaluate(x_test, y_test)\n",
    "print(\"Loss:\", loss)\n",
    "print(\"Accuracy:\", accuracy)"
   ]
  },
  {
   "cell_type": "code",
   "execution_count": null,
   "metadata": {},
   "outputs": [],
   "source": []
  }
 ],
 "metadata": {
  "kernelspec": {
   "display_name": "Python 3",
   "language": "python",
   "name": "python3"
  },
  "language_info": {
   "codemirror_mode": {
    "name": "ipython",
    "version": 3
   },
   "file_extension": ".py",
   "mimetype": "text/x-python",
   "name": "python",
   "nbconvert_exporter": "python",
   "pygments_lexer": "ipython3",
   "version": "3.7.3"
  }
 },
 "nbformat": 4,
 "nbformat_minor": 2
}
